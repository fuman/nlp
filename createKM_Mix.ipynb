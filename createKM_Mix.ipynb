{
  "nbformat": 4,
  "nbformat_minor": 0,
  "metadata": {
    "colab": {
      "provenance": [],
      "collapsed_sections": [
        "0JrcnfINy0qI",
        "b62winFioJQ-"
      ],
      "mount_file_id": "1ZG5s1JhOab0QiXX-vjdrkl55E0uKgKEF",
      "authorship_tag": "ABX9TyOLq6kbs+J4COh5wChZ3io9",
      "include_colab_link": true
    },
    "kernelspec": {
      "name": "python3",
      "display_name": "Python 3"
    },
    "language_info": {
      "name": "python"
    }
  },
  "cells": [
    {
      "cell_type": "markdown",
      "metadata": {
        "id": "view-in-github",
        "colab_type": "text"
      },
      "source": [
        "<a href=\"https://colab.research.google.com/github/fuman/nlp/blob/main/createKM_Mix.ipynb\" target=\"_parent\"><img src=\"https://colab.research.google.com/assets/colab-badge.svg\" alt=\"Open In Colab\"/></a>"
      ]
    },
    {
      "cell_type": "markdown",
      "source": [
        "# 1단계: 환경 설정"
      ],
      "metadata": {
        "id": "0JrcnfINy0qI"
      }
    },
    {
      "cell_type": "code",
      "execution_count": 38,
      "metadata": {
        "colab": {
          "base_uri": "https://localhost:8080/"
        },
        "collapsed": true,
        "id": "wd4FtHAMxjY_",
        "outputId": "52b99da2-904f-4574-888e-2a95a67b0de2"
      },
      "outputs": [
        {
          "output_type": "stream",
          "name": "stdout",
          "text": [
            "Requirement already satisfied: keybert in /usr/local/lib/python3.10/dist-packages (0.8.5)\n",
            "Requirement already satisfied: numpy>=1.18.5 in /usr/local/lib/python3.10/dist-packages (from keybert) (1.25.2)\n",
            "Requirement already satisfied: rich>=10.4.0 in /usr/local/lib/python3.10/dist-packages (from keybert) (13.7.1)\n",
            "Requirement already satisfied: scikit-learn>=0.22.2 in /usr/local/lib/python3.10/dist-packages (from keybert) (1.2.2)\n",
            "Requirement already satisfied: sentence-transformers>=0.3.8 in /usr/local/lib/python3.10/dist-packages (from keybert) (3.0.1)\n",
            "Requirement already satisfied: markdown-it-py>=2.2.0 in /usr/local/lib/python3.10/dist-packages (from rich>=10.4.0->keybert) (3.0.0)\n",
            "Requirement already satisfied: pygments<3.0.0,>=2.13.0 in /usr/local/lib/python3.10/dist-packages (from rich>=10.4.0->keybert) (2.16.1)\n",
            "Requirement already satisfied: scipy>=1.3.2 in /usr/local/lib/python3.10/dist-packages (from scikit-learn>=0.22.2->keybert) (1.11.4)\n",
            "Requirement already satisfied: joblib>=1.1.1 in /usr/local/lib/python3.10/dist-packages (from scikit-learn>=0.22.2->keybert) (1.4.2)\n",
            "Requirement already satisfied: threadpoolctl>=2.0.0 in /usr/local/lib/python3.10/dist-packages (from scikit-learn>=0.22.2->keybert) (3.5.0)\n",
            "Requirement already satisfied: transformers<5.0.0,>=4.34.0 in /usr/local/lib/python3.10/dist-packages (from sentence-transformers>=0.3.8->keybert) (4.41.2)\n",
            "Requirement already satisfied: tqdm in /usr/local/lib/python3.10/dist-packages (from sentence-transformers>=0.3.8->keybert) (4.66.4)\n",
            "Requirement already satisfied: torch>=1.11.0 in /usr/local/lib/python3.10/dist-packages (from sentence-transformers>=0.3.8->keybert) (2.3.0+cu121)\n",
            "Requirement already satisfied: huggingface-hub>=0.15.1 in /usr/local/lib/python3.10/dist-packages (from sentence-transformers>=0.3.8->keybert) (0.23.4)\n",
            "Requirement already satisfied: Pillow in /usr/local/lib/python3.10/dist-packages (from sentence-transformers>=0.3.8->keybert) (9.4.0)\n",
            "Requirement already satisfied: filelock in /usr/local/lib/python3.10/dist-packages (from huggingface-hub>=0.15.1->sentence-transformers>=0.3.8->keybert) (3.15.4)\n",
            "Requirement already satisfied: fsspec>=2023.5.0 in /usr/local/lib/python3.10/dist-packages (from huggingface-hub>=0.15.1->sentence-transformers>=0.3.8->keybert) (2023.6.0)\n",
            "Requirement already satisfied: packaging>=20.9 in /usr/local/lib/python3.10/dist-packages (from huggingface-hub>=0.15.1->sentence-transformers>=0.3.8->keybert) (24.1)\n",
            "Requirement already satisfied: pyyaml>=5.1 in /usr/local/lib/python3.10/dist-packages (from huggingface-hub>=0.15.1->sentence-transformers>=0.3.8->keybert) (6.0.1)\n",
            "Requirement already satisfied: requests in /usr/local/lib/python3.10/dist-packages (from huggingface-hub>=0.15.1->sentence-transformers>=0.3.8->keybert) (2.31.0)\n",
            "Requirement already satisfied: typing-extensions>=3.7.4.3 in /usr/local/lib/python3.10/dist-packages (from huggingface-hub>=0.15.1->sentence-transformers>=0.3.8->keybert) (4.12.2)\n",
            "Requirement already satisfied: mdurl~=0.1 in /usr/local/lib/python3.10/dist-packages (from markdown-it-py>=2.2.0->rich>=10.4.0->keybert) (0.1.2)\n",
            "Requirement already satisfied: sympy in /usr/local/lib/python3.10/dist-packages (from torch>=1.11.0->sentence-transformers>=0.3.8->keybert) (1.12.1)\n",
            "Requirement already satisfied: networkx in /usr/local/lib/python3.10/dist-packages (from torch>=1.11.0->sentence-transformers>=0.3.8->keybert) (3.3)\n",
            "Requirement already satisfied: jinja2 in /usr/local/lib/python3.10/dist-packages (from torch>=1.11.0->sentence-transformers>=0.3.8->keybert) (3.1.4)\n",
            "Requirement already satisfied: nvidia-cuda-nvrtc-cu12==12.1.105 in /usr/local/lib/python3.10/dist-packages (from torch>=1.11.0->sentence-transformers>=0.3.8->keybert) (12.1.105)\n",
            "Requirement already satisfied: nvidia-cuda-runtime-cu12==12.1.105 in /usr/local/lib/python3.10/dist-packages (from torch>=1.11.0->sentence-transformers>=0.3.8->keybert) (12.1.105)\n",
            "Requirement already satisfied: nvidia-cuda-cupti-cu12==12.1.105 in /usr/local/lib/python3.10/dist-packages (from torch>=1.11.0->sentence-transformers>=0.3.8->keybert) (12.1.105)\n",
            "Requirement already satisfied: nvidia-cudnn-cu12==8.9.2.26 in /usr/local/lib/python3.10/dist-packages (from torch>=1.11.0->sentence-transformers>=0.3.8->keybert) (8.9.2.26)\n",
            "Requirement already satisfied: nvidia-cublas-cu12==12.1.3.1 in /usr/local/lib/python3.10/dist-packages (from torch>=1.11.0->sentence-transformers>=0.3.8->keybert) (12.1.3.1)\n",
            "Requirement already satisfied: nvidia-cufft-cu12==11.0.2.54 in /usr/local/lib/python3.10/dist-packages (from torch>=1.11.0->sentence-transformers>=0.3.8->keybert) (11.0.2.54)\n",
            "Requirement already satisfied: nvidia-curand-cu12==10.3.2.106 in /usr/local/lib/python3.10/dist-packages (from torch>=1.11.0->sentence-transformers>=0.3.8->keybert) (10.3.2.106)\n",
            "Requirement already satisfied: nvidia-cusolver-cu12==11.4.5.107 in /usr/local/lib/python3.10/dist-packages (from torch>=1.11.0->sentence-transformers>=0.3.8->keybert) (11.4.5.107)\n",
            "Requirement already satisfied: nvidia-cusparse-cu12==12.1.0.106 in /usr/local/lib/python3.10/dist-packages (from torch>=1.11.0->sentence-transformers>=0.3.8->keybert) (12.1.0.106)\n",
            "Requirement already satisfied: nvidia-nccl-cu12==2.20.5 in /usr/local/lib/python3.10/dist-packages (from torch>=1.11.0->sentence-transformers>=0.3.8->keybert) (2.20.5)\n",
            "Requirement already satisfied: nvidia-nvtx-cu12==12.1.105 in /usr/local/lib/python3.10/dist-packages (from torch>=1.11.0->sentence-transformers>=0.3.8->keybert) (12.1.105)\n",
            "Requirement already satisfied: triton==2.3.0 in /usr/local/lib/python3.10/dist-packages (from torch>=1.11.0->sentence-transformers>=0.3.8->keybert) (2.3.0)\n",
            "Requirement already satisfied: nvidia-nvjitlink-cu12 in /usr/local/lib/python3.10/dist-packages (from nvidia-cusolver-cu12==11.4.5.107->torch>=1.11.0->sentence-transformers>=0.3.8->keybert) (12.5.82)\n",
            "Requirement already satisfied: regex!=2019.12.17 in /usr/local/lib/python3.10/dist-packages (from transformers<5.0.0,>=4.34.0->sentence-transformers>=0.3.8->keybert) (2024.5.15)\n",
            "Requirement already satisfied: tokenizers<0.20,>=0.19 in /usr/local/lib/python3.10/dist-packages (from transformers<5.0.0,>=4.34.0->sentence-transformers>=0.3.8->keybert) (0.19.1)\n",
            "Requirement already satisfied: safetensors>=0.4.1 in /usr/local/lib/python3.10/dist-packages (from transformers<5.0.0,>=4.34.0->sentence-transformers>=0.3.8->keybert) (0.4.3)\n",
            "Requirement already satisfied: MarkupSafe>=2.0 in /usr/local/lib/python3.10/dist-packages (from jinja2->torch>=1.11.0->sentence-transformers>=0.3.8->keybert) (2.1.5)\n",
            "Requirement already satisfied: charset-normalizer<4,>=2 in /usr/local/lib/python3.10/dist-packages (from requests->huggingface-hub>=0.15.1->sentence-transformers>=0.3.8->keybert) (3.3.2)\n",
            "Requirement already satisfied: idna<4,>=2.5 in /usr/local/lib/python3.10/dist-packages (from requests->huggingface-hub>=0.15.1->sentence-transformers>=0.3.8->keybert) (3.7)\n",
            "Requirement already satisfied: urllib3<3,>=1.21.1 in /usr/local/lib/python3.10/dist-packages (from requests->huggingface-hub>=0.15.1->sentence-transformers>=0.3.8->keybert) (2.0.7)\n",
            "Requirement already satisfied: certifi>=2017.4.17 in /usr/local/lib/python3.10/dist-packages (from requests->huggingface-hub>=0.15.1->sentence-transformers>=0.3.8->keybert) (2024.6.2)\n",
            "Requirement already satisfied: mpmath<1.4.0,>=1.1.0 in /usr/local/lib/python3.10/dist-packages (from sympy->torch>=1.11.0->sentence-transformers>=0.3.8->keybert) (1.3.0)\n",
            "Requirement already satisfied: nltk in /usr/local/lib/python3.10/dist-packages (3.8.1)\n",
            "Requirement already satisfied: click in /usr/local/lib/python3.10/dist-packages (from nltk) (8.1.7)\n",
            "Requirement already satisfied: joblib in /usr/local/lib/python3.10/dist-packages (from nltk) (1.4.2)\n",
            "Requirement already satisfied: regex>=2021.8.3 in /usr/local/lib/python3.10/dist-packages (from nltk) (2024.5.15)\n",
            "Requirement already satisfied: tqdm in /usr/local/lib/python3.10/dist-packages (from nltk) (4.66.4)\n",
            "Collecting sklearn\n",
            "  Using cached sklearn-0.0.post12.tar.gz (2.6 kB)\n",
            "  \u001b[1;31merror\u001b[0m: \u001b[1msubprocess-exited-with-error\u001b[0m\n",
            "  \n",
            "  \u001b[31m×\u001b[0m \u001b[32mpython setup.py egg_info\u001b[0m did not run successfully.\n",
            "  \u001b[31m│\u001b[0m exit code: \u001b[1;36m1\u001b[0m\n",
            "  \u001b[31m╰─>\u001b[0m See above for output.\n",
            "  \n",
            "  \u001b[1;35mnote\u001b[0m: This error originates from a subprocess, and is likely not a problem with pip.\n",
            "  Preparing metadata (setup.py) ... \u001b[?25l\u001b[?25herror\n",
            "\u001b[1;31merror\u001b[0m: \u001b[1mmetadata-generation-failed\u001b[0m\n",
            "\n",
            "\u001b[31m×\u001b[0m Encountered error while generating package metadata.\n",
            "\u001b[31m╰─>\u001b[0m See above for output.\n",
            "\n",
            "\u001b[1;35mnote\u001b[0m: This is an issue with the package mentioned above, not pip.\n",
            "\u001b[1;36mhint\u001b[0m: See above for details.\n",
            "Requirement already satisfied: konlpy in /usr/local/lib/python3.10/dist-packages (0.6.0)\n",
            "Requirement already satisfied: JPype1>=0.7.0 in /usr/local/lib/python3.10/dist-packages (from konlpy) (1.5.0)\n",
            "Requirement already satisfied: lxml>=4.1.0 in /usr/local/lib/python3.10/dist-packages (from konlpy) (4.9.4)\n",
            "Requirement already satisfied: numpy>=1.6 in /usr/local/lib/python3.10/dist-packages (from konlpy) (1.25.2)\n",
            "Requirement already satisfied: packaging in /usr/local/lib/python3.10/dist-packages (from JPype1>=0.7.0->konlpy) (24.1)\n",
            "Requirement already satisfied: kiwipiepy in /usr/local/lib/python3.10/dist-packages (0.18.0)\n",
            "Requirement already satisfied: kiwipiepy-model<0.19,>=0.18 in /usr/local/lib/python3.10/dist-packages (from kiwipiepy) (0.18.0)\n",
            "Requirement already satisfied: numpy<2 in /usr/local/lib/python3.10/dist-packages (from kiwipiepy) (1.25.2)\n",
            "Requirement already satisfied: tqdm in /usr/local/lib/python3.10/dist-packages (from kiwipiepy) (4.66.4)\n"
          ]
        }
      ],
      "source": [
        "!pip install keybert\n",
        "!pip install nltk\n",
        "!pip install sklearn\n",
        "!pip install konlpy  # 한국어 처리를 위한 라이브러리\n",
        "!pip install kiwipiepy"
      ]
    },
    {
      "cell_type": "markdown",
      "source": [
        "# 2단계: 라이브러리 IMPORT"
      ],
      "metadata": {
        "id": "d_OvP4n6mf6T"
      }
    },
    {
      "cell_type": "code",
      "source": [
        "import nltk\n",
        "from nltk import pos_tag\n",
        "from nltk.tokenize import word_tokenize\n",
        "from konlpy.tag import Okt  # 한국어 형태소 분석기\n",
        "nltk.download('averaged_perceptron_tagger')\n",
        "nltk.download('punkt')\n",
        "\n",
        "# 기존 임포트문들도 유지\n",
        "from keybert import KeyBERT\n",
        "from sklearn.feature_extraction.text import CountVectorizer\n",
        "from sklearn.cluster import KMeans\n",
        "import numpy as np\n",
        "\n",
        "from kiwipiepy import Kiwi\n",
        "import pandas as pd"
      ],
      "metadata": {
        "colab": {
          "base_uri": "https://localhost:8080/"
        },
        "collapsed": true,
        "id": "PAKTmrL3x4kg",
        "outputId": "05f44c23-af29-4cf0-f8e5-abfdc712ac6f"
      },
      "execution_count": 47,
      "outputs": [
        {
          "output_type": "stream",
          "name": "stderr",
          "text": [
            "[nltk_data] Downloading package averaged_perceptron_tagger to\n",
            "[nltk_data]     /root/nltk_data...\n",
            "[nltk_data]   Package averaged_perceptron_tagger is already up-to-\n",
            "[nltk_data]       date!\n",
            "[nltk_data] Downloading package punkt to /root/nltk_data...\n",
            "[nltk_data]   Package punkt is already up-to-date!\n"
          ]
        }
      ]
    },
    {
      "cell_type": "markdown",
      "source": [
        "# 3단계: 불용어 처리"
      ],
      "metadata": {
        "id": "SHDH1CkrnmhT"
      }
    },
    {
      "cell_type": "markdown",
      "source": [
        "## 3-1: KIWI 불용어 처리"
      ],
      "metadata": {
        "id": "Op7oNOpln0ls"
      }
    },
    {
      "cell_type": "code",
      "source": [
        "def get_filtered_text_kwiki(text):\n",
        "\n",
        "    kiwi = Kiwi()\n",
        "\n",
        "    filtered_tokens = []\n",
        "    result = kiwi.analyze(text)\n",
        "    for token, pos, _, _ in result[0][0]:\n",
        "        #if len(token) != 1 and pos.startswith('N') or pos.startswith('VV') or pos.startswith('SL'):\n",
        "        if len(token) != 1 and pos.startswith('N') or pos.startswith('SL'):\n",
        "            filtered_tokens.append(token)\n",
        "\n",
        "    return filtered_tokens"
      ],
      "metadata": {
        "id": "B6jZ1ZEDLIwk"
      },
      "execution_count": 40,
      "outputs": []
    },
    {
      "cell_type": "markdown",
      "source": [
        "## 3-2: Okt 불용어 처리"
      ],
      "metadata": {
        "id": "5-JX3OFLn4Y1"
      }
    },
    {
      "cell_type": "code",
      "source": [
        "def get_filtered_text_Okt(text, lang='ko'):\n",
        "\n",
        "    if lang == 'en':\n",
        "        # 영어 텍스트 처리\n",
        "        tokens = word_tokenize(text.lower())\n",
        "        pos_tags = pos_tag(tokens)\n",
        "        filtered_tokens = [word for word, pos in pos_tags if pos.startswith('NN') or pos.startswith('VB')]\n",
        "    else:\n",
        "        # 한국어 텍스트 처리\n",
        "        okt = Okt()\n",
        "        pos_tags = okt.pos(text)\n",
        "        #filtered_tokens = [word for word, pos in pos_tags if pos in ['Noun', 'Verb']]\n",
        "        filtered_tokens = [word for word, pos in pos_tags if pos in ['Noun']]\n",
        "\n",
        "    return filtered_tokens"
      ],
      "metadata": {
        "id": "cBifuGiyzZ1g"
      },
      "execution_count": 41,
      "outputs": []
    },
    {
      "cell_type": "markdown",
      "source": [
        "# 4단계: 핵심키워드 추출"
      ],
      "metadata": {
        "id": "QMER05d3oDl0"
      }
    },
    {
      "cell_type": "code",
      "source": [
        "def get_keywords(text, top_n=5, lang='ko', mode='Okt'):\n",
        "\n",
        "    #vectorizer = CountVectorizer(ngram_range=(1, 2))  # 2-gram까지 고려\n",
        "    #kw_model = KeyBERT(vectorizer=vectorizer)\n",
        "\n",
        "    kw_model = KeyBERT()\n",
        "    filtered_tokens = []\n",
        "\n",
        "    if mode == 'kwiki':\n",
        "        filtered_tokens = get_filtered_text_kwiki(text)\n",
        "    else:\n",
        "        filtered_tokens = get_filtered_text_Okt(text, lang)\n",
        "\n",
        "    filtered_text = ' '.join(filtered_tokens)\n",
        "    print(filtered_text)\n",
        "\n",
        "    keywords = kw_model.extract_keywords(filtered_text, keyphrase_ngram_range=(1, 2), top_n=top_n, stop_words='english')\n",
        "    #keywords = kw_model.extract_keywords(filtered_text, top_n=top_n, stop_words='english')\n",
        "    print(keywords)\n",
        "    return [keyword for keyword, _ in keywords]"
      ],
      "metadata": {
        "id": "_UivQJhcoIPn"
      },
      "execution_count": 42,
      "outputs": []
    },
    {
      "cell_type": "markdown",
      "source": [
        "# 5단계: 문서 Load"
      ],
      "metadata": {
        "id": "b62winFioJQ-"
      }
    },
    {
      "cell_type": "code",
      "source": [
        "def get_file_text():\n",
        "    # 여러 파일 읽기\n",
        "    file_list = ['문서1.txt', '문서2.txt', '문서3.txt', '문서4.txt']  # 파일 이름 목록\n",
        "    df_doc = pd.DataFrame(columns=['파일명', '텍스트'])\n",
        "    for file_name in file_list:\n",
        "        with open(\"/content/drive/MyDrive/01.교육/2024 자연어처리/DAY01/txt/\" + file_name, 'r', encoding='utf-8') as file:\n",
        "            content = file.read()\n",
        "\n",
        "            #df_doc = df.append({'파일명': file_name, '내용': content}, ignore_index=True)\n",
        "            new_row = pd.DataFrame({'파일명': [file_name], '텍스트': [content]})\n",
        "            df_doc = pd.concat([df_doc, new_row], ignore_index=True)\n",
        "\n",
        "    print(df_doc)\n",
        "\n",
        "    return df_doc"
      ],
      "metadata": {
        "id": "UhuOQSX7qv6U"
      },
      "execution_count": 43,
      "outputs": []
    },
    {
      "cell_type": "markdown",
      "source": [
        "# 6단계: 실행"
      ],
      "metadata": {
        "id": "fpuCDFg7ofNU"
      }
    },
    {
      "cell_type": "code",
      "source": [
        "# 문서 load\n",
        "df_doc = get_file_text()"
      ],
      "metadata": {
        "colab": {
          "base_uri": "https://localhost:8080/"
        },
        "id": "LIJK6tmC2d7G",
        "outputId": "bbca5b14-c4b1-40ff-d5d5-39857eb2e7d9"
      },
      "execution_count": 44,
      "outputs": [
        {
          "output_type": "stream",
          "name": "stdout",
          "text": [
            "       파일명                                                텍스트\n",
            "0  문서1.txt  서울 시청역 인근에서 9명 사망이란 대형 교통사고가 났다. 고령 운전자가 역주행을 ...\n",
            "1  문서2.txt  김포시(시장 김병수)가 4일, 본격적인 AI시대를 대비해 관내 지능형 교통장비를 확...\n",
            "2  문서3.txt  기술이란 단어는 어떤 문장과 상황에 사용되느냐에 따라 여러 가지로 해석이 가능한 단...\n",
            "3  문서4.txt  Following the deadly car crash near central Se...\n"
          ]
        }
      ]
    },
    {
      "cell_type": "code",
      "source": [
        "# 리스트 컴프리헨션에서 zip() 함수 사용\n",
        "#df_doc['키워드_kwiki'] = [get_keywords(text, 5, 'ko', 'kwiki') for text in zip(df_doc['텍스트'])]\n",
        "\n",
        "# 리스트 컴프리헨션에서 apply()와 람다 함수 사용\n",
        "df_doc['키워드_kwiki'] = df_doc['텍스트'].apply(lambda x: get_keywords(x, 5, 'ko', 'kwiki')).tolist()\n",
        "\n",
        "df_doc['키워드_Okt'] = df_doc['텍스트'].apply(lambda x: get_keywords(x, 5, 'ko', 'Okt')).tolist()\n",
        "\n",
        "df_doc['키워드_Okt_en'] = df_doc['텍스트'].apply(lambda x: get_keywords(x, 5, 'en', 'Okt')).tolist()\n",
        "\n",
        "df_doc"
      ],
      "metadata": {
        "colab": {
          "base_uri": "https://localhost:8080/",
          "height": 750
        },
        "id": "umn0nRXG6l1x",
        "outputId": "c27e17ab-345a-450a-cbaf-95ce12973d7c"
      },
      "execution_count": 45,
      "outputs": [
        {
          "output_type": "stream",
          "name": "stdout",
          "text": [
            "서울 시청역 인근 사망 교통 사고 고령 운전자 역주행 인도 돌진 보행자 사고 보도 종합 시청역 인근 일방통행 차선 도로 세종대로 역주행 차량 도로 차량 횡단보도 인도 돌진 신호 보행자 사고 남성 남성 남성 남성 남성 여성 남성 부상 가해 운전자 남성 현장 검거 음주 운전 혐의 해당 고령자 급발진 주장 급발진 주장 목격자 급발진 급발진 횡단보도 차량 연합뉴스 인근 차량 블랙박스 영상 급발진 의견 표출 가해자 특성 고령 운전자 비판 X 트위터 실시간 현장 사진 누리 노인 운전자 우리 생명 위협 운전면허 아무 개월 개월 선별 운전 기타 문제 발생 면허 의견 개진\n",
            "[('인근 일방통행', 0.4873), ('블랙박스 영상', 0.4588), ('일방통행 차선', 0.4579), ('세종대로 역주행', 0.4417), ('운전자 역주행', 0.4225)]\n",
            "김포시 시장 김병수 본격 AI 시대 대비 관내 지능 교통 장비 확대 지능 교통 체계 ITS 확대 사업 국비 포함 투입 관내 주요 도로 첨단 AI 지능 교통 장비 설치 급속 도시 발전 교통량 증가 교통 혼잡 완화 교통 안전 강화 추진 사업 시작 투입 관내 개소 첨단 신호 제어 교통 정보 수집 제공 첨단 지능 교통 장비 설치 확대 구축 사업 투입 관내 개소 AI 지능 교통 정보 인프라 확대 구축 이후 교통 신호등 온라인 구축 사업 추진 긴급 차량 신호 사업 추진 계획 향후 자율 주행 시대 대비 차세대 지능 교통 체계 C ITS 구축 계획 시민 교통 편의 다각 정책 구상 진석 도시 안전 정보 센터장 김포 대비 다양 교통 정보 정책 계획 추진 시민 편리 교통 환경 노력\n",
            "[('교통 환경', 0.4168), ('완화 교통', 0.4062), ('교통 신호등', 0.4006), ('김병수 본격', 0.3822), ('안전 강화', 0.3794)]\n",
            "기술 단어 문장 상황 사용 가지 해석 가능 단어 기술 과학 기술 발전 한자 의미 사용 한자어 상황 Skill Technique Technology 다양 형태 번역 단어 오늘 우리 기술 한자어 대응 다양 영어 단어 차이 technology Skill technic technique 비교 기술 어원 기술 정의 차이 기술 무엇 Technology Technic Skill 차이 Table of Contents I. 기술 정의 사전 정의 기술 표준 국어사전 정의 아래 과학 이론 적용 사물 인간 생활 유용 가공 수단 사물 방법 능력 한자 재주 솜씨 재주 단어 재주 솜씨 사물 분야 솜씨 재능 풀이 두산 백과사전 두산 백과사전 기술 Technology 번역 무어 성취 방법 해석 의미 인간 욕구 욕망 적합 대상 변화 인간 행위 오늘날 재화 생산 생산 기술 의미 사용 정의 의미 기술 자연 생성 인간 생산 사고 구별 개념 철학 사전 임석진 윤용 황태연 이성백 중원 문화 출간 철학 사전 기술 Technics 번역 인간 사회 활동 사용 인공 종류 기관 정의 인간 노동 기능 기능 경험 지식 자연 물질 대상 역사 획득 성과 노동 수단 총체 정의 기술 생산 운수 연결 조직 작용 수동 기술 추천 조선 시대 개인 정보 묘호 이름 생몰 재위 기간 가족 관계 정리 육체노동 정신 노동 용구 생활상 용구 능동 기술 분류 여기 수동 기술 건축물 지상 교통 철도 다리 운하 정보 전달 수단 전화 라디오 TV 능동 기술 생산 운수 군사 기계 기계 관리 장치 기술 학적 과정 관리 장치 생산 과정 전체 관리 장치 사회 경제 과정 관리 장치 안경 보청기 의족 의안 포함 생활상 용구 건축 용어 사전 대한건축학회 무엇 성취 방법 의미 인간 욕구 욕망 적합 대상 변화 인간 행위 기술 그리스어 테크네 techné 유래 어원 예술 의술 포함 오늘날 생산 기술 사용 정의 II. Skill Technic Technology 차이 기술 영어 번역 Skill Technic Technique Technology 사용 단어 정의 어원 정리 Skill 스킬 우리 경험 연습 무어 능력 사물 사용 방법 능력 경험 다양 능력 포괄 우리말 기술 기량 능력 재능 다양 해석 Skill 사용 Labor skills 노동력 Skilled workers 숙련 노동자 사람 효과 소통 능력 Communication skills Social skills 사교 Technic Technique 테크닉 구현 특별 방식 예술 스포츠 방면 사용 단어 피아노 바이올린 악기 연주 능력 운동 선수 해당 종목 숙련 동작 사용 테크닉 표현 방법 기법 사용 His technique 사람 기술 Various tachniques 다양 기법 Brilliant technique 기술 사용 Technology Technology 현대 지식 기반 방법 과학 기술 이해 과학 기술 현대 지식 기반 기계 장비 사용 Modern technology 현대 기술 Advances in technology 기술 진보 new technology 과학 기술 사용 technology 고대 그리스 무어 방법 지식 단어 tékhnē 유래 세기 단어 Systematic treatment 체계 처리 방안\n",
            "[('국어사전 정의', 0.5676), ('임석진 윤용', 0.5512), ('번역 skill', 0.5403), ('상황 skill', 0.5396), ('용구 생활상', 0.532)]\n",
            "Following the deadly car crash near central Seoul on July debate has rekindled over whether seniors aged and up should be eligible to drive with some openly expressing hatred toward older drivers o nline. On July a vehicle crashed into pedestrians waiting at traffic light at an intersection near Exit No. of Seoul s City Hall Station in Jung gu central Seoul as it drove in the wrong direction and collided with two vehicles before hitting the pedestri ans. In the end this car crash resulted in nine fatalities with seven in jured. While the exact cause behind the accident is still being investigated it was revealed soon after that the driver was a year old man fueling distrust among some South Koreans about older people s driving abil ities. Two days after this car crash a taxi driven by a driver in his s crashed into the emergency ward of a hospital in Jung gu on July injuring three pedestri ans. On Saturday a vehicle driven by a man in his s injured two pedestrians while making a U turn near Seoul St ation. With the recent chain of accidents involving senior drivers some South Koreans have expressed their doubts over older drivers abilities to drive. Yonhap News Agency on Saturday reported on comments written under different articles about the recent car crashes that read Take these old people s driver s licenses away and Let s not let old people get behind the wheel. Another commented that they fear riding in taxis as they are mostly driven by old p eople. Public concerns over older drivers also grew after the latest data compiled by the Korea Insurance Development Institute on Sunday revealed that based on car insurance data drivers over the age of caused more car accidents than those younger than by percent in Car crashes involving drivers aged and up also produced a higher number of victims and a higher proportion of injuries on average as the average number of victims in car accidents involving drivers under the age of was while the average number of victims in crashes involving the number of drivers and up was Some have also proposed strengthening the drivers aptitude test for older drivers by mandating the return of driver s licenses for those over the age of Mandating the installation of an Automated Emergency Braking System which warns the driver after detecting critical proximity to a vehicle in front and provides assistance with braking was suggested as well. In South Korea drivers aged and above are required to renew their license every three years while other drivers are required to do so every ye ars. Drivers above must also go through a cognitive test and road safety education when renewing their li cense. Senior drivers are also encouraged to forfeit their driver s licenses in exchange for incentives such as a public transportation card worth won if they reside in Seoul. However according to the Seoul Metropolitan Government only around percent of senior drivers actually return their driver s li cense. While these debates about older drivers provide Korean society with an opportunity to reconsider safety measures in the face of an aging population experts say that it is not ideal to conclude that a driver s age is solely to blame as the cause behind car crashes involving senior dr ivers. The recent chain of car accidents caused by senior drivers is very unfortunate but focusing too much on their age and the problems surrounding senior drivers is not helpful to finding the exact cause behind the accidents social welfare professor Seok Jae eun from Hallym University told The Korea H erald. Regarding the recent car crash near Seoul s City Hall Station traffic accident experts concluded that it is difficult to attribute the cause of the accident to problems associated with older drivers as it was found that a decrease in the driver s reaction speed a typical issue associated with older drivers was not noticeable at the time according to local re ports. Even before the exact causes behind the recent accidents have been identified the public s anger is being directed at the drivers and not other problems such as traffic problems or car malfunctions added Seok. At a time like this it s more important to clearly identifying the causes so that the problems don t recur instead of simply bl aming.\n",
            "[('accidents younger', 0.5646), ('korea drivers', 0.5422), ('seoul drove', 0.5245), ('koreans older', 0.523), ('drivers aged', 0.4868)]\n",
            "서울 시청역 인근 명 사망 대형 교통사고 고령 운전자 역주행 인도 돌진 보행자 친 보도 등 종합 시청역 인근 일방 통행 차선 도로 세종 길 를 역주행 차량 도로 다른 대의 차량 연달 후 횡단보도 인도 쪽 돌진 신호 보행자 명 명 사고 남성 명 남성 명 남성 명 남성 명과 남성 명 여성 명 남성 명 부상 가해 운전자 세 남성 현장 검거 음주운전 혐의 것 해당 고령자 급발진 주장 것 다만 급발진 주장 것 대해 목격자 급발진 절대 면서 급발진 때 때 횡단보도 앞 차량 고 연합뉴스 인근 차량 블랙박스 영상 급발진 이 의견 표 이로 가해자 특성 고령 운전자 대한 비판 트위터 등 실시간 현장 사진 전하 누리꾼 노인 운전자 우리 생명 위협 제발 운전면허 테 주지 세 한번 세 개월 한번 세 개월 한번 선 해 운전 미숙 기타 문제 발생 면허 의견 개진\n",
            "[('블랙박스 영상', 0.469), ('운전자 역주행', 0.4491), ('역주행 인도', 0.4299), ('남성 명과', 0.4238), ('서울 시청역', 0.4194)]\n",
            "김포시 시장 김병수 본격 시대 대비 관내 지능 교통 장비 확대 지능 교통 체계 확대 사업 총 국비 포함 투입 관내 도로 최첨단 급 지능 교통 장비 설치 최근 도시 발전 및 교통량 증가 교통혼잡 완화 및 교통 안전 더 위해 추진 먼저 차 사업 시작 총 투입 관내 개소 첨단 신호 제어 교통 정보 수집 제공 등 최첨단 지능 교통 장비 설치 차 확대 구축 사업 총 투입 관내 개소 급 지능 교통 정보 인프라 확대 축하 등 발 움직 또한 시 이후 교통신호등 온라인 구축 사업 추진 과 긴급 차량 우선 신호 사업 추진 계획 향후 자율 행시 대비 차세대 지능 교통 체계 구축 계획 등 시민 교통 편의 위 다각 정책 구상 김진 석 도시 안전 정보 센터 앞 김포 대비 교통 정보 정책 계획 추진 통해 시민 좀더 교통 환경 수 노력 고 말\n",
            "[('교통혼잡 완화', 0.5576), ('이후 교통신호등', 0.489), ('교통 환경', 0.4596), ('완화 교통', 0.4435), ('교통신호등', 0.4151)]\n",
            "기술 단어 문장 상황 사용 여러 가지 해석 단어 기술 말 때 과학기술 발전 처럼 한자 전혀 다른 의미 사용 말 한자어 상황 등 형태 번역 단어 오늘 우리 기술 한자어 그 대응 영어 단어 차이 대해 비교 기술 어원 기술 정의 차이 기술 무엇 과 과 의 차이 기술 정의 사전 정의 기술 표준 국어사전 정의 아래 과학 이론 실제 적용 사물 인간 생활 가공 수단 사물 수 방법 능력 한자 재주 솜씨 기 꾀 재주 술 자로 단어 재주 솜씨 사물 꾀 분야 일 솜씨 재능 등 풀이 두산 백과사전 두산 백과사전 기술 로 번역 무언가 성취 방법 해석 의미 인간 욕구 욕망 대상 변화 모든 인간 행위 를 오늘날 주로 물 재화 생산 생산 기술 의 의미 사용 정의 의미 기술 자연 생 인간 생산 사고 등 구별 개념 철학 사전 임석진 윤용 택 황 태연 이성백 중원 문화 간 철학 사전 기술 번역 인간 사회 활동 사용 인공 여러 종류 기관 정의 인간 노동 기능 즉 기능 경험 지식 자연 물질 속 대상 역사 획득 성과 를 말 것 노동 수단 체 정의 또한 기술 생산 운수 연결 조직 작용 수동 기술 과 추천 글 조선시대 왕 개인정보 표 묘호 이름 생 재위 기간 가족 관계 정리 육체노동 정신 노동 용구 생활 상의 용구 능동 기술 로 분류 여기 수동 기술 건축물 지상 교통 철도 다리 운하 정보전 달상 수단 전화 라디오 등 등 능동 기술 생산 운수 군사 상의 기계 기계 관리 장치 기술 학적 과정 관리 장치 생산 과정 전체 관리 장치 사회 과정 관리 장치 안경 보청기 의족 의안 등 포함 생활 상의 용구 건축 용어사전 건축 학회 무엇 를 성취 방법 말 의미 인간 욕구 욕망 대상 변화 모든 인간 행위 를 말 기술 말 그리스어 테크 유래 것 어원 예술 의술 등 포함 것 오늘날 주로 생산 기술 뜻 사용 정의 의 차이 기술 영어 번역 그 등 사용 수 각 단어 정의 어원 대해 정리 스킬 우리 경험 통해 연습 무언가 수 능력 말 사물 사용 수 방법 능력 외 경험 통해 능력 포괄 우리말 기술 뜻 기량 능력 재능 등 뜻 해석 수 이 주로 사용 예 노동 숙련 노동자 사람 효과 소통 능력 사교성 등 테크닉 손 발 등 몸 움직 구현 방식 말 주로 예술 스포츠 방면 사용 단어 피아노 바이올린 악기 연주 능력 운동선수 해당 종목 숙련 동작 사용 것 테크닉 표현 수 또한 방법 기법 뜻 사용 기도 그 사람 기술 기법 기술 등 사용 수 현대 지식 기반 방법 과학기술 뜻 이해 때로는 과학기술 현대 지식 기반 기계 장비 를 말로 사용 기도 현대 기술 기술 진보 과학기술 등 사용 수 고대 그리스 무언가 방법 관 지식 뜻 단어 유래 세기 초 단어 로서 체계 처리 방안 뜻 가지\n",
            "[('국어사전 정의', 0.508), ('문장 상황', 0.5007), ('생산 과정', 0.4999), ('생활 상의', 0.4966), ('건축 용어사전', 0.4945)]\n",
            "\n",
            "[]\n",
            "시청역 인근에서 사망이란 대형 교통사고가 났다 고령 역주행을 하다 인도로 돌진해 보행자들을 덮친 사고였다 보도 종합하면 시청역 인근 일방통행인 도로 를 역주행한 차량이 도로의 다른 차량을 연달아 들이받은 후 횡단보도가 있는 인도 쪽으로 돌진해 신호를 기다리던 보행자들을 덮쳐 다쳤다 남성 남성 숨졌다 남성 여성 남성 부상을 당했다 가해 현장 검거됐다 음주운전 없는 것으로 전해졌고 해당 고령자는 급발진을 주장하고 있는 것으로 알려졌다 다만 주장하고 있는 것에 대해 목격자들은 “ 급발진은 절대 아니었다 ” 면서 “ 급발진을 할 때는 끝날 때까지 박았어야 했는데 횡단보도 앞에서 차량이 멈췄다 뭐라도 했다 ” 고 연합뉴스에 밝혔다 인근 블랙박스 영상이 퍼지자 급발진이 아니었다고 보는 이들의 의견도 속속 표출됐다 이로 가해자 특성인 ‘ 고령 ’ 운전자에 대한 비판이 이어졌다 x 트위터 등에선 현장 사진을 전하는 누리꾼들이 “ 노인 운전자들이 우리 생명에 위협을 주고 있다 ” “ 제발 운전면허 아무한테나 주지 말고 한번 한번 한번씩 선별해서 운전미숙이나 기타 문제 발생하면 면허 뺏어야 한다 ” 는 의견을 개진했다\n",
            "[('블랙박스 영상이', 0.527), ('시청역 인근에서', 0.5237), ('종합하면 시청역', 0.5144), ('인근 일방통행인', 0.5059), ('이들의 의견도', 0.4969)]\n",
            "김포시 시장 김병수 가 본격적인 ai시대를 대비해 관내 지능형 교통장비를 확대하겠다고 밝혔다 지능형교통체계 확대사업은 총 포함 을 투입하며 관내 주요도로에 최첨단 ai급 지능형교통장비를 설치해 최근 급속한 도시발전 및 교통량 증가에 따른 교통혼잡 완화 및 교통안전을 더 강화하기 위해 추진하고 있다 시작으로 총 투입해 관내 첨단신호제어 교통정보 수집·제공 등 최첨단 지능형 교통장비를 설치했고 확대구축 사업으로 총 투입 관내 ai급 지능형 교통정보 인프라를 확대구축하는 등 발빠르게 움직이고 있다 또한 온라인 구축사업 추진 과 우선신호 사업 추진을 계획하고 있으며 향후 자율주행시대를 대비한 차세대 지능형교통체계 c-its 구축도 등 시민의 교통편의를 위한 다각적인 정책을 구상하고 펼치고 있다 김진석 대비하여 다양한 교통정보 정책을 계획하고 추진하고 있으며 이를 통해 시민분들께서 좀더 편리한 교통환경을 누리실 수 있도록 많이 노력하겠다 고 말했다\n",
            "[('완화 교통안전을', 0.633), ('편리한 교통환경을', 0.6157), ('지능형교통장비를 설치해', 0.614), ('교통안전을 강화하기', 0.613), ('교통혼잡 완화', 0.5969)]\n",
            "단어는 어떤 문장과 상황에 사용되느냐에 따라 여러 가지로 해석이 가능한 단어입니다 말할 때나 발전으로…'처럼 같은 한자이지만 전혀 다른 의미로 사용된다는 말입니다 같은 상황에 따라 skill technique technology 등 다양한 형태로 번역되는 단어 오늘은 기술이라고 쓰는 한자어와 그에 대응하는 다양한 영어 단어의 차이에 대해 알아보겠습니다 technology skill 비교 기술의 어원 기술의 정의 차이 기술이란 무엇인가 技術과 technology 차이 ･ table contents ･ i 기술의 사전적 기술의 표준 국어사전의 정의는 아래와 같습니다 과학 실제로 적용하여 사물을 인간 생활에 유용하도록 가공하는 수단 사물을 다룰 수 있는 방법이나 능력 한자로는 솜씨 기 技 + 꾀 재주 술 術'자로 이루어진 단어로 만들거나 짓거나 하는 재주 또는 솜씨 사물을 다루거나 부리는 꾀 어떤 분야의 일을 솜씨 있게 다루는 재능 등으로 있습니다 두산백과사전 기술은 technology로 번역하고 '무언가를 만들어내거나 또는 성취하는 방법'이라고 해석하고 있습니다 보다 의미로는 욕구나 욕망에 적합하도록 주어진 대상을 변화시키는 모든 인간적 행위 를 가리키고 있다고 합니다 오늘날에는 재화를 생산하는 생산기술 의 의미로 사용되고 있다고 정의하고 있습니다 이러한 기술은 자연의 생성이나 인간의 생산적 사고 등과는 구별되는 개념입니다 철학사전 임석진･윤용택･황태연･이성백 / 중원문화 출간된 '기술 을 technics으로 번역하였고 '인간의 사회적 활동에 사용되는 인공적인 여러 종류의 기관 器官 정의하였습니다 기능･경험･지식을 자연의 물질 속에 대상화함으로써 역사적으로 획득된 성과 를 말하는 것이라고도 하였고 '노동수단의 총체'라고 정의하기도 하였습니다 또한 생산이나 운수에서 연결조직으로 작용하는 기술 과 추천글 조선시대 왕들의 개인정보 표 묘호 이름 생몰과 재위기간 가족관계 정리 육체노동이나 정신노동의 용구나 생활상의 용구가 되는 기술 로 분류하였습니다 기술에는 건축물이나 지상교통에서의 철도･다리･운하･정보전달상의 수단 전화･라디오･tv 등 등이 있고 능동적인 기술은 생산･운수･군사상의 기계･기계관리의 장치 기술학적 과정의 관리장치 생산과정 전체의 관리장치 사회･경제과정의 관리장치 안경･보청기･의족･의안 등을 포함한 생활상의 용구들이 있다고 하였습니다 건축용어사전 대한건축학회 만들어내거나 성취하는 방법 을 말합니다 의미로는 욕구나 욕망에 적합하도록 주어진 대상을 변화시키는 모든 인간적 행위 를 말한다고 하였습니다 기술이란 그리스어 '테크네 techné 에서 것으로 어원적으로는 예술･의술 등도 포함하는 것이지만 오늘날은 주로 생산기술의 뜻으로 사용된다고 정의하였습니다 ii skill 차이 기술을 영어로 번역하면 그 쓰임에 따라 skill technique technology 등으로 사용할 수 있습니다 각 정의와 어원에 대해 정리해 보겠습니다 skill 스킬이란 '우리가 경험을 통해 배우고 연습해서 얻게 된 무언가 잘할 수 있는 능력 을 말합니다 사물을 잘 다루거나 사용할 수 있는 방법이나 능력 외에도 경험을 통해 얻게 된 다양한 능력을 포괄한다고 하겠습니다 우리말로 기술이란 뜻도 있지만 기량 능력 재능 등의 다양한 뜻으로 해석할 수 있겠습니다 skill이 사용되는 예를 보면 'labor skills 노동력 'skilled workers 노동자 사람들과 효과적으로 소통하는 능력인 'communication skills skills 사교성 있겠습니다 technique 테크닉은 발 등 몸을 움직여서 구현하는 특별한 방식 을 말하며 주로 예술이나 스포츠 방면에서 사용하는 단어입니다 피아노나 같은 악기를 연주하는 능력 운동선수가 해당 종목에서 숙련된 동작을 사용하는 것을 좋다'라고 표현할 수 있겠습니다 또한 기법'이라는 뜻으로 사용되기도 하는데 technique 그 사람의 기술 tachniques 다양한 기법들 technique 뛰어난 기술 등으로 사용할 수 있겠습니다 technology technology는 지식을 기반으로 한 방법 또는 과학기술'이라는 뜻으로 이해하면 되겠습니다 때로는 넘어 지식을 기반으로 만들어진 기계나 장비 를 가리키는 말로도 사용되기도 합니다 technology 현대 기술 'advances technology 기술의 진보 'new technology 새로운 과학기술 등과 같이 사용할 수 있습니다 technology는 그리스에서 만들어내는 방법에 관한 지식 을 뜻하는 단어 tékhnē에서 초에 만들어진 단어로서 treatment 체계적인 처리방안'이라는 뜻을 가지고 있습니다\n",
            "[('육체노동이나 정신노동의', 0.6083), ('국어사전의 정의는', 0.5929), ('인간의 생산적', 0.5878), ('용구나 생활상의', 0.5859), ('조선시대 왕들의', 0.5855)]\n",
            "following car crash seoul july debate has rekindled seniors aged be drive expressing hatred drivers online july vehicle crashed pedestrians waiting traffic light intersection exit seoul ’ s city hall station jung-gu seoul drove direction collided vehicles hitting pedestrians end car crash resulted fatalities injured cause accident is being investigated was revealed driver was man fueling distrust koreans people driving abilities days car crash taxi driven driver crashed emergency ward hospital jung-gu july injuring pedestrians saturday vehicle driven man pedestrians making station chain accidents involving drivers koreans have expressed doubts drivers ’ abilities drive news agency saturday reported comments written articles car crashes read “ take people ’ driver ’ s licenses ” “ let let people get wheel. ” commented fear riding taxis are driven people. ” concerns drivers grew data compiled korea insurance development institute sunday revealed based car insurance data drivers age caused car accidents percent car crashes involving drivers aged produced number victims proportion injuries average number victims car accidents involving drivers age was number victims crashes involving number drivers was have proposed strengthening drivers ’ test drivers mandating return driver ’ s licenses age mandating installation emergency braking system warns driver detecting proximity vehicle front provides assistance braking was suggested korea drivers aged above are required renew license years drivers are required do years drivers go test road safety education renewing license drivers are encouraged forfeit driver ’ s licenses exchange incentives transportation card won reside seoul according seoul government percent drivers return driver license debates drivers provide society opportunity reconsider safety measures face aging population experts say is ” conclude driver ’ s age is blame cause car crashes involving drivers “ chain car accidents caused drivers is focusing age problems surrounding drivers is finding exact cause accidents ” welfare professor seok jae-eun hallym university told korea herald regarding car crash seoul city hall station traffic accident experts concluded is attribute cause accident problems associated drivers was found decrease driver reaction speed issue associated drivers was time according reports “ causes accidents have been identified ’ s anger is being directed drivers problems traffic problems car malfunctions ” added seok “ time ’ identifying causes problems do recur blaming ”\n",
            "[('drivers koreans', 0.6107), ('korea drivers', 0.5581), ('seoul drove', 0.533), ('crash seoul', 0.5111), ('korea insurance', 0.4219)]\n"
          ]
        },
        {
          "output_type": "execute_result",
          "data": {
            "text/plain": [
              "       파일명                                                텍스트  \\\n",
              "0  문서1.txt  서울 시청역 인근에서 9명 사망이란 대형 교통사고가 났다. 고령 운전자가 역주행을 ...   \n",
              "1  문서2.txt  김포시(시장 김병수)가 4일, 본격적인 AI시대를 대비해 관내 지능형 교통장비를 확...   \n",
              "2  문서3.txt  기술이란 단어는 어떤 문장과 상황에 사용되느냐에 따라 여러 가지로 해석이 가능한 단...   \n",
              "3  문서4.txt  Following the deadly car crash near central Se...   \n",
              "\n",
              "                                           키워드_kwiki  \\\n",
              "0     [인근 일방통행, 블랙박스 영상, 일방통행 차선, 세종대로 역주행, 운전자 역주행]   \n",
              "1              [교통 환경, 완화 교통, 교통 신호등, 김병수 본격, 안전 강화]   \n",
              "2      [국어사전 정의, 임석진 윤용, 번역 skill, 상황 skill, 용구 생활상]   \n",
              "3  [accidents younger, korea drivers, seoul drove...   \n",
              "\n",
              "                                     키워드_Okt  \\\n",
              "0  [블랙박스 영상, 운전자 역주행, 역주행 인도, 남성 명과, 서울 시청역]   \n",
              "1   [교통혼잡 완화, 이후 교통신호등, 교통 환경, 완화 교통, 교통신호등]   \n",
              "2    [국어사전 정의, 문장 상황, 생산 과정, 생활 상의, 건축 용어사전]   \n",
              "3                                         []   \n",
              "\n",
              "                                          키워드_Okt_en  \n",
              "0  [블랙박스 영상이, 시청역 인근에서, 종합하면 시청역, 인근 일방통행인, 이들의 의견도]  \n",
              "1  [완화 교통안전을, 편리한 교통환경을, 지능형교통장비를 설치해, 교통안전을 강화하기...  \n",
              "2  [육체노동이나 정신노동의, 국어사전의 정의는, 인간의 생산적, 용구나 생활상의, 조...  \n",
              "3  [drivers koreans, korea drivers, seoul drove, ...  "
            ],
            "text/html": [
              "\n",
              "  <div id=\"df-04afe4ef-254d-4a6a-8c31-aeb8189e9b6f\" class=\"colab-df-container\">\n",
              "    <div>\n",
              "<style scoped>\n",
              "    .dataframe tbody tr th:only-of-type {\n",
              "        vertical-align: middle;\n",
              "    }\n",
              "\n",
              "    .dataframe tbody tr th {\n",
              "        vertical-align: top;\n",
              "    }\n",
              "\n",
              "    .dataframe thead th {\n",
              "        text-align: right;\n",
              "    }\n",
              "</style>\n",
              "<table border=\"1\" class=\"dataframe\">\n",
              "  <thead>\n",
              "    <tr style=\"text-align: right;\">\n",
              "      <th></th>\n",
              "      <th>파일명</th>\n",
              "      <th>텍스트</th>\n",
              "      <th>키워드_kwiki</th>\n",
              "      <th>키워드_Okt</th>\n",
              "      <th>키워드_Okt_en</th>\n",
              "    </tr>\n",
              "  </thead>\n",
              "  <tbody>\n",
              "    <tr>\n",
              "      <th>0</th>\n",
              "      <td>문서1.txt</td>\n",
              "      <td>서울 시청역 인근에서 9명 사망이란 대형 교통사고가 났다. 고령 운전자가 역주행을 ...</td>\n",
              "      <td>[인근 일방통행, 블랙박스 영상, 일방통행 차선, 세종대로 역주행, 운전자 역주행]</td>\n",
              "      <td>[블랙박스 영상, 운전자 역주행, 역주행 인도, 남성 명과, 서울 시청역]</td>\n",
              "      <td>[블랙박스 영상이, 시청역 인근에서, 종합하면 시청역, 인근 일방통행인, 이들의 의견도]</td>\n",
              "    </tr>\n",
              "    <tr>\n",
              "      <th>1</th>\n",
              "      <td>문서2.txt</td>\n",
              "      <td>김포시(시장 김병수)가 4일, 본격적인 AI시대를 대비해 관내 지능형 교통장비를 확...</td>\n",
              "      <td>[교통 환경, 완화 교통, 교통 신호등, 김병수 본격, 안전 강화]</td>\n",
              "      <td>[교통혼잡 완화, 이후 교통신호등, 교통 환경, 완화 교통, 교통신호등]</td>\n",
              "      <td>[완화 교통안전을, 편리한 교통환경을, 지능형교통장비를 설치해, 교통안전을 강화하기...</td>\n",
              "    </tr>\n",
              "    <tr>\n",
              "      <th>2</th>\n",
              "      <td>문서3.txt</td>\n",
              "      <td>기술이란 단어는 어떤 문장과 상황에 사용되느냐에 따라 여러 가지로 해석이 가능한 단...</td>\n",
              "      <td>[국어사전 정의, 임석진 윤용, 번역 skill, 상황 skill, 용구 생활상]</td>\n",
              "      <td>[국어사전 정의, 문장 상황, 생산 과정, 생활 상의, 건축 용어사전]</td>\n",
              "      <td>[육체노동이나 정신노동의, 국어사전의 정의는, 인간의 생산적, 용구나 생활상의, 조...</td>\n",
              "    </tr>\n",
              "    <tr>\n",
              "      <th>3</th>\n",
              "      <td>문서4.txt</td>\n",
              "      <td>Following the deadly car crash near central Se...</td>\n",
              "      <td>[accidents younger, korea drivers, seoul drove...</td>\n",
              "      <td>[]</td>\n",
              "      <td>[drivers koreans, korea drivers, seoul drove, ...</td>\n",
              "    </tr>\n",
              "  </tbody>\n",
              "</table>\n",
              "</div>\n",
              "    <div class=\"colab-df-buttons\">\n",
              "\n",
              "  <div class=\"colab-df-container\">\n",
              "    <button class=\"colab-df-convert\" onclick=\"convertToInteractive('df-04afe4ef-254d-4a6a-8c31-aeb8189e9b6f')\"\n",
              "            title=\"Convert this dataframe to an interactive table.\"\n",
              "            style=\"display:none;\">\n",
              "\n",
              "  <svg xmlns=\"http://www.w3.org/2000/svg\" height=\"24px\" viewBox=\"0 -960 960 960\">\n",
              "    <path d=\"M120-120v-720h720v720H120Zm60-500h600v-160H180v160Zm220 220h160v-160H400v160Zm0 220h160v-160H400v160ZM180-400h160v-160H180v160Zm440 0h160v-160H620v160ZM180-180h160v-160H180v160Zm440 0h160v-160H620v160Z\"/>\n",
              "  </svg>\n",
              "    </button>\n",
              "\n",
              "  <style>\n",
              "    .colab-df-container {\n",
              "      display:flex;\n",
              "      gap: 12px;\n",
              "    }\n",
              "\n",
              "    .colab-df-convert {\n",
              "      background-color: #E8F0FE;\n",
              "      border: none;\n",
              "      border-radius: 50%;\n",
              "      cursor: pointer;\n",
              "      display: none;\n",
              "      fill: #1967D2;\n",
              "      height: 32px;\n",
              "      padding: 0 0 0 0;\n",
              "      width: 32px;\n",
              "    }\n",
              "\n",
              "    .colab-df-convert:hover {\n",
              "      background-color: #E2EBFA;\n",
              "      box-shadow: 0px 1px 2px rgba(60, 64, 67, 0.3), 0px 1px 3px 1px rgba(60, 64, 67, 0.15);\n",
              "      fill: #174EA6;\n",
              "    }\n",
              "\n",
              "    .colab-df-buttons div {\n",
              "      margin-bottom: 4px;\n",
              "    }\n",
              "\n",
              "    [theme=dark] .colab-df-convert {\n",
              "      background-color: #3B4455;\n",
              "      fill: #D2E3FC;\n",
              "    }\n",
              "\n",
              "    [theme=dark] .colab-df-convert:hover {\n",
              "      background-color: #434B5C;\n",
              "      box-shadow: 0px 1px 3px 1px rgba(0, 0, 0, 0.15);\n",
              "      filter: drop-shadow(0px 1px 2px rgba(0, 0, 0, 0.3));\n",
              "      fill: #FFFFFF;\n",
              "    }\n",
              "  </style>\n",
              "\n",
              "    <script>\n",
              "      const buttonEl =\n",
              "        document.querySelector('#df-04afe4ef-254d-4a6a-8c31-aeb8189e9b6f button.colab-df-convert');\n",
              "      buttonEl.style.display =\n",
              "        google.colab.kernel.accessAllowed ? 'block' : 'none';\n",
              "\n",
              "      async function convertToInteractive(key) {\n",
              "        const element = document.querySelector('#df-04afe4ef-254d-4a6a-8c31-aeb8189e9b6f');\n",
              "        const dataTable =\n",
              "          await google.colab.kernel.invokeFunction('convertToInteractive',\n",
              "                                                    [key], {});\n",
              "        if (!dataTable) return;\n",
              "\n",
              "        const docLinkHtml = 'Like what you see? Visit the ' +\n",
              "          '<a target=\"_blank\" href=https://colab.research.google.com/notebooks/data_table.ipynb>data table notebook</a>'\n",
              "          + ' to learn more about interactive tables.';\n",
              "        element.innerHTML = '';\n",
              "        dataTable['output_type'] = 'display_data';\n",
              "        await google.colab.output.renderOutput(dataTable, element);\n",
              "        const docLink = document.createElement('div');\n",
              "        docLink.innerHTML = docLinkHtml;\n",
              "        element.appendChild(docLink);\n",
              "      }\n",
              "    </script>\n",
              "  </div>\n",
              "\n",
              "\n",
              "<div id=\"df-679d7001-2ebc-47c0-a450-10cebc5e63eb\">\n",
              "  <button class=\"colab-df-quickchart\" onclick=\"quickchart('df-679d7001-2ebc-47c0-a450-10cebc5e63eb')\"\n",
              "            title=\"Suggest charts\"\n",
              "            style=\"display:none;\">\n",
              "\n",
              "<svg xmlns=\"http://www.w3.org/2000/svg\" height=\"24px\"viewBox=\"0 0 24 24\"\n",
              "     width=\"24px\">\n",
              "    <g>\n",
              "        <path d=\"M19 3H5c-1.1 0-2 .9-2 2v14c0 1.1.9 2 2 2h14c1.1 0 2-.9 2-2V5c0-1.1-.9-2-2-2zM9 17H7v-7h2v7zm4 0h-2V7h2v10zm4 0h-2v-4h2v4z\"/>\n",
              "    </g>\n",
              "</svg>\n",
              "  </button>\n",
              "\n",
              "<style>\n",
              "  .colab-df-quickchart {\n",
              "      --bg-color: #E8F0FE;\n",
              "      --fill-color: #1967D2;\n",
              "      --hover-bg-color: #E2EBFA;\n",
              "      --hover-fill-color: #174EA6;\n",
              "      --disabled-fill-color: #AAA;\n",
              "      --disabled-bg-color: #DDD;\n",
              "  }\n",
              "\n",
              "  [theme=dark] .colab-df-quickchart {\n",
              "      --bg-color: #3B4455;\n",
              "      --fill-color: #D2E3FC;\n",
              "      --hover-bg-color: #434B5C;\n",
              "      --hover-fill-color: #FFFFFF;\n",
              "      --disabled-bg-color: #3B4455;\n",
              "      --disabled-fill-color: #666;\n",
              "  }\n",
              "\n",
              "  .colab-df-quickchart {\n",
              "    background-color: var(--bg-color);\n",
              "    border: none;\n",
              "    border-radius: 50%;\n",
              "    cursor: pointer;\n",
              "    display: none;\n",
              "    fill: var(--fill-color);\n",
              "    height: 32px;\n",
              "    padding: 0;\n",
              "    width: 32px;\n",
              "  }\n",
              "\n",
              "  .colab-df-quickchart:hover {\n",
              "    background-color: var(--hover-bg-color);\n",
              "    box-shadow: 0 1px 2px rgba(60, 64, 67, 0.3), 0 1px 3px 1px rgba(60, 64, 67, 0.15);\n",
              "    fill: var(--button-hover-fill-color);\n",
              "  }\n",
              "\n",
              "  .colab-df-quickchart-complete:disabled,\n",
              "  .colab-df-quickchart-complete:disabled:hover {\n",
              "    background-color: var(--disabled-bg-color);\n",
              "    fill: var(--disabled-fill-color);\n",
              "    box-shadow: none;\n",
              "  }\n",
              "\n",
              "  .colab-df-spinner {\n",
              "    border: 2px solid var(--fill-color);\n",
              "    border-color: transparent;\n",
              "    border-bottom-color: var(--fill-color);\n",
              "    animation:\n",
              "      spin 1s steps(1) infinite;\n",
              "  }\n",
              "\n",
              "  @keyframes spin {\n",
              "    0% {\n",
              "      border-color: transparent;\n",
              "      border-bottom-color: var(--fill-color);\n",
              "      border-left-color: var(--fill-color);\n",
              "    }\n",
              "    20% {\n",
              "      border-color: transparent;\n",
              "      border-left-color: var(--fill-color);\n",
              "      border-top-color: var(--fill-color);\n",
              "    }\n",
              "    30% {\n",
              "      border-color: transparent;\n",
              "      border-left-color: var(--fill-color);\n",
              "      border-top-color: var(--fill-color);\n",
              "      border-right-color: var(--fill-color);\n",
              "    }\n",
              "    40% {\n",
              "      border-color: transparent;\n",
              "      border-right-color: var(--fill-color);\n",
              "      border-top-color: var(--fill-color);\n",
              "    }\n",
              "    60% {\n",
              "      border-color: transparent;\n",
              "      border-right-color: var(--fill-color);\n",
              "    }\n",
              "    80% {\n",
              "      border-color: transparent;\n",
              "      border-right-color: var(--fill-color);\n",
              "      border-bottom-color: var(--fill-color);\n",
              "    }\n",
              "    90% {\n",
              "      border-color: transparent;\n",
              "      border-bottom-color: var(--fill-color);\n",
              "    }\n",
              "  }\n",
              "</style>\n",
              "\n",
              "  <script>\n",
              "    async function quickchart(key) {\n",
              "      const quickchartButtonEl =\n",
              "        document.querySelector('#' + key + ' button');\n",
              "      quickchartButtonEl.disabled = true;  // To prevent multiple clicks.\n",
              "      quickchartButtonEl.classList.add('colab-df-spinner');\n",
              "      try {\n",
              "        const charts = await google.colab.kernel.invokeFunction(\n",
              "            'suggestCharts', [key], {});\n",
              "      } catch (error) {\n",
              "        console.error('Error during call to suggestCharts:', error);\n",
              "      }\n",
              "      quickchartButtonEl.classList.remove('colab-df-spinner');\n",
              "      quickchartButtonEl.classList.add('colab-df-quickchart-complete');\n",
              "    }\n",
              "    (() => {\n",
              "      let quickchartButtonEl =\n",
              "        document.querySelector('#df-679d7001-2ebc-47c0-a450-10cebc5e63eb button');\n",
              "      quickchartButtonEl.style.display =\n",
              "        google.colab.kernel.accessAllowed ? 'block' : 'none';\n",
              "    })();\n",
              "  </script>\n",
              "</div>\n",
              "\n",
              "  <div id=\"id_0a6fc3e5-4d0f-4249-ab40-7ff7a230801a\">\n",
              "    <style>\n",
              "      .colab-df-generate {\n",
              "        background-color: #E8F0FE;\n",
              "        border: none;\n",
              "        border-radius: 50%;\n",
              "        cursor: pointer;\n",
              "        display: none;\n",
              "        fill: #1967D2;\n",
              "        height: 32px;\n",
              "        padding: 0 0 0 0;\n",
              "        width: 32px;\n",
              "      }\n",
              "\n",
              "      .colab-df-generate:hover {\n",
              "        background-color: #E2EBFA;\n",
              "        box-shadow: 0px 1px 2px rgba(60, 64, 67, 0.3), 0px 1px 3px 1px rgba(60, 64, 67, 0.15);\n",
              "        fill: #174EA6;\n",
              "      }\n",
              "\n",
              "      [theme=dark] .colab-df-generate {\n",
              "        background-color: #3B4455;\n",
              "        fill: #D2E3FC;\n",
              "      }\n",
              "\n",
              "      [theme=dark] .colab-df-generate:hover {\n",
              "        background-color: #434B5C;\n",
              "        box-shadow: 0px 1px 3px 1px rgba(0, 0, 0, 0.15);\n",
              "        filter: drop-shadow(0px 1px 2px rgba(0, 0, 0, 0.3));\n",
              "        fill: #FFFFFF;\n",
              "      }\n",
              "    </style>\n",
              "    <button class=\"colab-df-generate\" onclick=\"generateWithVariable('df_doc')\"\n",
              "            title=\"Generate code using this dataframe.\"\n",
              "            style=\"display:none;\">\n",
              "\n",
              "  <svg xmlns=\"http://www.w3.org/2000/svg\" height=\"24px\"viewBox=\"0 0 24 24\"\n",
              "       width=\"24px\">\n",
              "    <path d=\"M7,19H8.4L18.45,9,17,7.55,7,17.6ZM5,21V16.75L18.45,3.32a2,2,0,0,1,2.83,0l1.4,1.43a1.91,1.91,0,0,1,.58,1.4,1.91,1.91,0,0,1-.58,1.4L9.25,21ZM18.45,9,17,7.55Zm-12,3A5.31,5.31,0,0,0,4.9,8.1,5.31,5.31,0,0,0,1,6.5,5.31,5.31,0,0,0,4.9,4.9,5.31,5.31,0,0,0,6.5,1,5.31,5.31,0,0,0,8.1,4.9,5.31,5.31,0,0,0,12,6.5,5.46,5.46,0,0,0,6.5,12Z\"/>\n",
              "  </svg>\n",
              "    </button>\n",
              "    <script>\n",
              "      (() => {\n",
              "      const buttonEl =\n",
              "        document.querySelector('#id_0a6fc3e5-4d0f-4249-ab40-7ff7a230801a button.colab-df-generate');\n",
              "      buttonEl.style.display =\n",
              "        google.colab.kernel.accessAllowed ? 'block' : 'none';\n",
              "\n",
              "      buttonEl.onclick = () => {\n",
              "        google.colab.notebook.generateWithVariable('df_doc');\n",
              "      }\n",
              "      })();\n",
              "    </script>\n",
              "  </div>\n",
              "\n",
              "    </div>\n",
              "  </div>\n"
            ],
            "application/vnd.google.colaboratory.intrinsic+json": {
              "type": "dataframe",
              "variable_name": "df_doc",
              "summary": "{\n  \"name\": \"df_doc\",\n  \"rows\": 4,\n  \"fields\": [\n    {\n      \"column\": \"\\ud30c\\uc77c\\uba85\",\n      \"properties\": {\n        \"dtype\": \"string\",\n        \"num_unique_values\": 4,\n        \"samples\": [\n          \"\\ubb38\\uc11c2.txt\",\n          \"\\ubb38\\uc11c4.txt\",\n          \"\\ubb38\\uc11c1.txt\"\n        ],\n        \"semantic_type\": \"\",\n        \"description\": \"\"\n      }\n    },\n    {\n      \"column\": \"\\ud14d\\uc2a4\\ud2b8\",\n      \"properties\": {\n        \"dtype\": \"string\",\n        \"num_unique_values\": 4,\n        \"samples\": [\n          \"\\uae40\\ud3ec\\uc2dc(\\uc2dc\\uc7a5 \\uae40\\ubcd1\\uc218)\\uac00 4\\uc77c, \\ubcf8\\uaca9\\uc801\\uc778 AI\\uc2dc\\ub300\\ub97c \\ub300\\ube44\\ud574 \\uad00\\ub0b4 \\uc9c0\\ub2a5\\ud615 \\uad50\\ud1b5\\uc7a5\\ube44\\ub97c \\ud655\\ub300\\ud558\\uaca0\\ub2e4\\uace0 \\ubc1d\\ud614\\ub2e4.\\n\\n\\uc9c0\\ub2a5\\ud615\\uad50\\ud1b5\\uccb4\\uacc4(ITS) \\ud655\\ub300\\uc0ac\\uc5c5\\uc740, 2021\\ub144\\ubd80\\ud130 2024\\ub144\\uae4c\\uc9c0 \\ucd1d 125\\uc5b5(\\uad6d\\ube44 75\\uc5b5 \\ud3ec\\ud568)\\uc744 \\ud22c\\uc785\\ud558\\uba70, \\uad00\\ub0b4 \\uc8fc\\uc694\\ub3c4\\ub85c\\uc5d0 \\ucd5c\\ucca8\\ub2e8 AI\\uae09 \\uc9c0\\ub2a5\\ud615\\uad50\\ud1b5\\uc7a5\\ube44\\ub97c \\uc124\\uce58\\ud574, \\ucd5c\\uadfc \\uae09\\uc18d\\ud55c \\ub3c4\\uc2dc\\ubc1c\\uc804 \\ubc0f \\uad50\\ud1b5\\ub7c9 \\uc99d\\uac00\\uc5d0 \\ub530\\ub978 \\uad50\\ud1b5\\ud63c\\uc7a1 \\uc644\\ud654 \\ubc0f \\uad50\\ud1b5\\uc548\\uc804\\uc744 \\ub354 \\uac15\\ud654\\ud558\\uae30 \\uc704\\ud574 \\ucd94\\uc9c4\\ud558\\uace0 \\uc788\\ub2e4.\\n\\n\\uba3c\\uc800 1\\ucc28 \\uc0ac\\uc5c5\\uc744 \\uc2dc\\uc791\\uc73c\\ub85c \\ucd1d 85\\uc5b5\\uc744 \\ud22c\\uc785\\ud574 \\uad00\\ub0b4 126\\uac1c\\uc18c\\uc5d0 \\ucca8\\ub2e8\\uc2e0\\ud638\\uc81c\\uc5b4, \\uad50\\ud1b5\\uc815\\ubcf4 \\uc218\\uc9d1\\u00b7\\uc81c\\uacf5 \\ub4f1 \\ucd5c\\ucca8\\ub2e8 \\uc9c0\\ub2a5\\ud615 \\uad50\\ud1b5\\uc7a5\\ube44\\ub97c \\uc124\\uce58\\ud588\\uace0, 2\\ucc28 \\ud655\\ub300\\uad6c\\ucd95 \\uc0ac\\uc5c5\\uc73c\\ub85c, \\ucd1d 40\\uc5b5\\uc744 \\ud22c\\uc785, \\uad00\\ub0b4 21\\uac1c\\uc18c\\uc5d0 AI\\uae09 \\uc9c0\\ub2a5\\ud615 \\uad50\\ud1b5\\uc815\\ubcf4 \\uc778\\ud504\\ub77c\\ub97c \\ud655\\ub300\\uad6c\\ucd95\\ud558\\ub294 \\ub4f1 \\ubc1c\\ube60\\ub974\\uac8c \\uc6c0\\uc9c1\\uc774\\uace0 \\uc788\\ub2e4.\\n\\n\\ub610\\ud55c \\uc2dc\\ub294 2025\\ub144 \\uc774\\ud6c4\\ubd80\\ud130 '\\uad50\\ud1b5\\uc2e0\\ud638\\ub4f1 \\uc628\\ub77c\\uc778 \\uad6c\\ucd95\\uc0ac\\uc5c5 \\ucd94\\uc9c4'\\uacfc '\\uae34\\uae09\\ucc28\\ub7c9 \\uc6b0\\uc120\\uc2e0\\ud638 \\uc0ac\\uc5c5' \\ucd94\\uc9c4\\uc744 \\uacc4\\ud68d\\ud558\\uace0 \\uc788\\uc73c\\uba70 \\ud5a5\\ud6c4 \\uc790\\uc728\\uc8fc\\ud589\\uc2dc\\ub300\\ub97c \\ub300\\ube44\\ud55c \\ucc28\\uc138\\ub300 \\uc9c0\\ub2a5\\ud615\\uad50\\ud1b5\\uccb4\\uacc4(C-ITS) \\uad6c\\ucd95\\ub3c4 \\uacc4\\ud68d\\ud558\\ub294 \\ub4f1 \\uc2dc\\ubbfc\\uc758 \\uad50\\ud1b5\\ud3b8\\uc758\\ub97c \\uc704\\ud55c \\ub2e4\\uac01\\uc801\\uc778 \\uc815\\ucc45\\uc744 \\uad6c\\uc0c1\\ud558\\uace0 \\ud3bc\\uce58\\uace0 \\uc788\\ub2e4.\\n\\n\\uae40\\uc9c4\\uc11d \\ub3c4\\uc2dc\\uc548\\uc804\\uc815\\ubcf4\\uc13c\\ud130\\uc7a5\\uc740 \\\"\\uc55e\\uc73c\\ub85c 70\\ub9cc \\uae40\\ud3ec\\ub97c \\ub300\\ube44\\ud558\\uc5ec, \\ub2e4\\uc591\\ud55c \\uad50\\ud1b5\\uc815\\ubcf4 \\uc815\\ucc45\\uc744 \\uacc4\\ud68d\\ud558\\uace0 \\ucd94\\uc9c4\\ud558\\uace0 \\uc788\\uc73c\\uba70, \\uc774\\ub97c \\ud1b5\\ud574 \\uc2dc\\ubbfc\\ubd84\\ub4e4\\uaed8\\uc11c \\uc880\\ub354 \\ud3b8\\ub9ac\\ud55c \\uad50\\ud1b5\\ud658\\uacbd\\uc744 \\ub204\\ub9ac\\uc2e4 \\uc218 \\uc788\\ub3c4\\ub85d \\ub9ce\\uc774 \\ub178\\ub825\\ud558\\uaca0\\ub2e4\\\"\\uace0 \\ub9d0\\ud588\\ub2e4.\\n\",\n          \"Following the deadly car crash near central Seoul on July 1, debate has rekindled over whether seniors aged 65 and up should be eligible to drive, with some openly expressing hatred toward older drivers online.\\n\\nOn July 1, a vehicle crashed into pedestrians waiting at traffic light at an intersection near Exit No. 7 of Seoul\\u2019s City Hall Station in Jung-gu, central Seoul, as it drove in the wrong direction and collided with two vehicles before hitting the pedestrians. In the end, this car crash resulted in nine fatalities with seven injured.\\n\\nWhile the exact cause behind the accident is still being investigated, it was revealed soon after that the driver was a 68-year-old man, fueling distrust among some South Koreans about older people's driving abilities.\\n\\nTwo days after this car crash, a taxi driven by a driver in his 70s crashed into the emergency ward of a hospital in Jung-gu on July 3, injuring three pedestrians. On Saturday, a vehicle driven by a man in his 80s injured two pedestrians while making a U-turn near Seoul Station.\\n\\n\\nWith the recent chain of accidents involving senior drivers, some South Koreans have expressed their doubts over older drivers\\u2019 abilities to drive.\\n\\nYonhap News Agency on Saturday reported on comments written under different articles about the recent car crashes that read: \\u201cTake these old people\\u2019s driver\\u2019s licenses away,\\u201d and, \\u201cLet's not let old people get behind the wheel.\\u201d Another commented that they fear riding in taxis, as they are \\u201cmostly driven by old people.\\u201d\\n\\nPublic concerns over older drivers also grew after the latest data compiled by the Korea Insurance Development Institute on Sunday revealed that, based on car insurance data, drivers over the age of 65 caused more car accidents than those younger than 65 by 13 percent in 2023. Car crashes involving drivers aged 65 and up also produced a higher number of victims and a higher proportion of injuries on average, as the average number of victims in car accidents involving drivers under the age of 65 was 1.96, while the average number of victims in crashes involving the number of drivers 65 and up was 2.63.\\n\\nSome have also proposed strengthening the drivers\\u2019 aptitude test for older drivers by mandating the return of driver\\u2019s licenses for those over the age of 70. Mandating the installation of an Automated Emergency Braking System, which warns the driver after detecting critical proximity to a vehicle in front and provides assistance with braking was suggested as well.\\n\\nIn South Korea, drivers aged 75 and above are required to renew their license every three years, while other drivers are required to do so every 10 years. Drivers above 75 must also go through a cognitive test and road safety education when renewing their license.\\n\\nSenior drivers are also encouraged to forfeit their driver\\u2019s licenses in exchange for incentives, such as a public transportation card worth 100,000 won ($72) if they reside in Seoul. However, according to the Seoul Metropolitan Government, only around 2 percent of senior drivers actually return their driver\\u2019s license.\\n\\nWhile these debates about older drivers provide Korean society with an opportunity to reconsider safety measures in the face of an aging population, experts say that it is \\u201cnot ideal\\u201d to conclude that a driver\\u2019s age is solely to blame as the cause behind car crashes involving senior drivers.\\n\\n\\u201cThe recent chain of car accidents caused by senior drivers is very unfortunate, but focusing too much on their age and the problems surrounding senior drivers is not helpful to finding the exact cause behind the accidents,\\u201d social welfare professor Seok Jae-eun from Hallym University told The Korea Herald.\\n\\nRegarding the recent car crash near Seoul's City Hall Station, traffic accident experts concluded that it is difficult to attribute the cause of the accident to problems associated with older drivers, as it was found that a decrease in the driver's reaction speed -- a typical issue associated with older drivers -- was not noticeable at the time, according to local reports.\\n\\n\\u201cEven before the exact causes behind the recent accidents have been identified, the public\\u2019s anger is being directed at the drivers and not other problems such as traffic problems or car malfunctions,\\u201d added Seok. \\u201cAt a time like this, it\\u2019s more important to clearly identifying the causes so that the problems don't recur instead of simply blaming.\\u201d\",\n          \"\\uc11c\\uc6b8 \\uc2dc\\uccad\\uc5ed \\uc778\\uadfc\\uc5d0\\uc11c 9\\uba85 \\uc0ac\\ub9dd\\uc774\\ub780 \\ub300\\ud615 \\uad50\\ud1b5\\uc0ac\\uace0\\uac00 \\ub0ac\\ub2e4. \\uace0\\ub839 \\uc6b4\\uc804\\uc790\\uac00 \\uc5ed\\uc8fc\\ud589\\uc744 \\ud558\\ub2e4 \\uc778\\ub3c4\\ub85c \\ub3cc\\uc9c4\\ud574 \\ubcf4\\ud589\\uc790\\ub4e4\\uc744 \\ub36e\\uce5c \\uc0ac\\uace0\\uc600\\ub2e4.\\n\\n\\ubcf4\\ub3c4 \\ub4f1\\uc744 \\uc885\\ud569\\ud558\\uba74 1\\uc77c 21\\uc2dc27\\ubd84\\uaed8 \\uc2dc\\uccad\\uc5ed \\uc778\\uadfc \\uc77c\\ubc29\\ud1b5\\ud589\\uc778 4\\ucc28\\uc120 \\ub3c4\\ub85c(\\uc138\\uc885\\ub300\\ub85c 18\\uae38)\\ub97c \\uc5ed\\uc8fc\\ud589\\ud55c \\ucc28\\ub7c9\\uc774 \\ub3c4\\ub85c\\uc758 \\ub2e4\\ub978 2\\ub300\\uc758 \\ucc28\\ub7c9\\uc744 \\uc5f0\\ub2ec\\uc544 \\ub4e4\\uc774\\ubc1b\\uc740 \\ud6c4 \\ud6a1\\ub2e8\\ubcf4\\ub3c4\\uac00 \\uc788\\ub294 \\uc778\\ub3c4 \\ucabd\\uc73c\\ub85c \\ub3cc\\uc9c4\\ud574 \\uc2e0\\ud638\\ub97c \\uae30\\ub2e4\\ub9ac\\ub358 \\ubcf4\\ud589\\uc790\\ub4e4\\uc744 \\ub36e\\uccd0 9\\uba85\\uc774 \\uc228\\uc9c0\\uace0 4\\uba85\\uc774 \\ub2e4\\ucce4\\ub2e4.\\n\\n\\uc0ac\\uace0\\ub85c 50\\ub300 \\ub0a8\\uc131 4\\uba85, 30\\ub300 \\ub0a8\\uc131 4\\uba85, 40\\ub300 \\ub0a8\\uc131 1\\uba85\\uc774 \\uc228\\uc84c\\ub2e4. 40\\ub300 \\ub0a8\\uc131 1\\uba85\\uacfc 30\\ub300 \\ub0a8\\uc131 1\\uba85, 60\\ub300 \\uc5ec\\uc131 1\\uba85, 70\\ub300 \\ub0a8\\uc131 1\\uba85\\uc774 \\ubd80\\uc0c1\\uc744 \\ub2f9\\ud588\\ub2e4.\\n\\n\\uac00\\ud574 \\uc6b4\\uc804\\uc790\\ub294 68\\uc138 \\ub0a8\\uc131\\uc774\\uc5c8\\uace0 \\ud604\\uc7a5 \\uac80\\uac70\\ub410\\ub2e4. \\uc74c\\uc8fc\\uc6b4\\uc804 \\ud610\\uc758\\ub294 \\uc5c6\\ub294 \\uac83\\uc73c\\ub85c \\uc804\\ud574\\uc84c\\uace0 \\ud574\\ub2f9 \\uace0\\ub839\\uc790\\ub294 \\uae09\\ubc1c\\uc9c4\\uc744 \\uc8fc\\uc7a5\\ud558\\uace0 \\uc788\\ub294 \\uac83\\uc73c\\ub85c \\uc54c\\ub824\\uc84c\\ub2e4.\\n\\n\\ub2e4\\ub9cc \\uae09\\ubc1c\\uc9c4\\uc744 \\uc8fc\\uc7a5\\ud558\\uace0 \\uc788\\ub294 \\uac83\\uc5d0 \\ub300\\ud574 \\ubaa9\\uaca9\\uc790\\ub4e4\\uc740 \\u201c\\uae09\\ubc1c\\uc9c4\\uc740 \\uc808\\ub300 \\uc544\\ub2c8\\uc5c8\\ub2e4\\u201d\\uba74\\uc11c \\u201c\\uae09\\ubc1c\\uc9c4\\uc744 \\ud560 \\ub54c\\ub294 \\ub05d\\ub0a0 \\ub54c\\uae4c\\uc9c0 \\ubc15\\uc558\\uc5b4\\uc57c \\ud588\\ub294\\ub370 \\ud6a1\\ub2e8\\ubcf4\\ub3c4 \\uc55e\\uc5d0\\uc11c \\ucc28\\ub7c9\\uc774 \\uba48\\ucdc4\\ub2e4. \\ubb50\\ub77c\\ub3c4 \\ubc15\\uc558\\uc5b4\\uc57c \\ud588\\ub2e4\\u201d\\uace0 \\uc5f0\\ud569\\ub274\\uc2a4\\uc5d0 \\ubc1d\\ud614\\ub2e4. \\uc778\\uadfc \\ucc28\\ub7c9 \\ube14\\ub799\\ubc15\\uc2a4 \\uc601\\uc0c1\\uc774 \\ud37c\\uc9c0\\uc790 \\uae09\\ubc1c\\uc9c4\\uc774 \\uc544\\ub2c8\\uc5c8\\ub2e4\\uace0 \\ubcf4\\ub294 \\uc774\\ub4e4\\uc758 \\uc758\\uacac\\ub3c4 \\uc18d\\uc18d \\ud45c\\ucd9c\\ub410\\ub2e4.\\n\\n\\uc774\\ub85c \\uc778\\ud574 \\uac00\\ud574\\uc790 \\ud2b9\\uc131\\uc778 \\u2018\\uace0\\ub839\\u2019 \\uc6b4\\uc804\\uc790\\uc5d0 \\ub300\\ud55c \\ube44\\ud310\\uc774 \\uc774\\uc5b4\\uc84c\\ub2e4. X(\\uc61b \\ud2b8\\uc704\\ud130) \\ub4f1\\uc5d0\\uc120 \\uc2e4\\uc2dc\\uac04 \\ud604\\uc7a5 \\uc0ac\\uc9c4\\uc744 \\uc804\\ud558\\ub294 \\ub204\\ub9ac\\uafbc\\ub4e4\\uc774 \\u201c\\ub178\\uc778 \\uc6b4\\uc804\\uc790\\ub4e4\\uc774 \\uc6b0\\ub9ac \\uc0dd\\uba85\\uc5d0 \\uc704\\ud611\\uc744 \\uc8fc\\uace0 \\uc788\\ub2e4\\u201d, \\u201c\\uc81c\\ubc1c \\uc6b4\\uc804\\uba74\\ud5c8 \\uc544\\ubb34\\ud55c\\ud14c\\ub098 \\uc8fc\\uc9c0 \\ub9d0\\uace0 65\\uc138\\ubd80\\ud130\\ub294 1\\ub144 \\ud55c\\ubc88 70\\uc138\\ubd80\\ud130\\ub294 6\\uac1c\\uc6d4 \\ud55c\\ubc88, 75\\uc138\\ubd80\\ud130\\ub294 1\\uac1c\\uc6d4\\uc5d0 \\ud55c\\ubc88\\uc529 \\uc120\\ubcc4\\ud574\\uc11c \\uc6b4\\uc804\\ubbf8\\uc219\\uc774\\ub098 \\uae30\\ud0c0 \\ubb38\\uc81c \\ubc1c\\uc0dd\\ud558\\uba74 \\uba74\\ud5c8 \\ube8f\\uc5b4\\uc57c \\ud55c\\ub2e4\\u201d\\ub294 \\uc758\\uacac\\uc744 \\uac1c\\uc9c4\\ud588\\ub2e4.\"\n        ],\n        \"semantic_type\": \"\",\n        \"description\": \"\"\n      }\n    },\n    {\n      \"column\": \"\\ud0a4\\uc6cc\\ub4dc_kwiki\",\n      \"properties\": {\n        \"dtype\": \"object\",\n        \"semantic_type\": \"\",\n        \"description\": \"\"\n      }\n    },\n    {\n      \"column\": \"\\ud0a4\\uc6cc\\ub4dc_Okt\",\n      \"properties\": {\n        \"dtype\": \"object\",\n        \"semantic_type\": \"\",\n        \"description\": \"\"\n      }\n    },\n    {\n      \"column\": \"\\ud0a4\\uc6cc\\ub4dc_Okt_en\",\n      \"properties\": {\n        \"dtype\": \"object\",\n        \"semantic_type\": \"\",\n        \"description\": \"\"\n      }\n    }\n  ]\n}"
            }
          },
          "metadata": {},
          "execution_count": 45
        }
      ]
    },
    {
      "cell_type": "code",
      "source": [
        "'''\n",
        "df_doc[\"키워드_kwiki\"] = \"\"\n",
        "\n",
        "for index, row in df_doc.iterrows():\n",
        "    text = row['텍스트']\n",
        "\n",
        "    #print(index)\n",
        "\n",
        "    keyword = get_keywords(text, 5, 'ko', 'kwiki')\n",
        "    #print(keyword)\n",
        "    #print(type(keyword))\n",
        "\n",
        "    df_doc.at[index, '키워드_kwiki'] = get_keywords(text, 5, 'ko', 'kwiki')\n",
        "\n",
        "    #print(index)\n",
        "\n",
        "    #df_doc.at[index, '키워드_Okt'] = get_keywords(text, 5, 'ko', 'Okt')\n",
        "\n",
        "    #row['키워드_Okt_en'] = get_keywords(text, 5, 'en', 'Okt')\n",
        "\n",
        "#print(df_doc)\n",
        "'''"
      ],
      "metadata": {
        "id": "gqbZ7x5vrgac",
        "colab": {
          "base_uri": "https://localhost:8080/",
          "height": 87
        },
        "outputId": "f03680af-4939-4615-8d95-b316f2c45804"
      },
      "execution_count": 46,
      "outputs": [
        {
          "output_type": "execute_result",
          "data": {
            "text/plain": [
              "'\\ndf_doc[\"키워드_kwiki\"] = \"\"\\n\\nfor index, row in df_doc.iterrows():\\n    text = row[\\'텍스트\\']\\n    \\n    #print(index)\\n\\n    keyword = get_keywords(text, 5, \\'ko\\', \\'kwiki\\')\\n    #print(keyword)\\n    #print(type(keyword))\\n\\n    df_doc.at[index, \\'키워드_kwiki\\'] = get_keywords(text, 5, \\'ko\\', \\'kwiki\\')\\n\\n    #print(index)\\n\\n    #df_doc.at[index, \\'키워드_Okt\\'] = get_keywords(text, 5, \\'ko\\', \\'Okt\\')\\n\\n    #row[\\'키워드_Okt_en\\'] = get_keywords(text, 5, \\'en\\', \\'Okt\\')\\n\\n#print(df_doc)\\n'"
            ],
            "application/vnd.google.colaboratory.intrinsic+json": {
              "type": "string"
            }
          },
          "metadata": {},
          "execution_count": 46
        }
      ]
    }
  ]
}